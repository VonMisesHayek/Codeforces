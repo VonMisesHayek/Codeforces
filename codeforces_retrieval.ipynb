{
 "cells": [
  {
   "cell_type": "code",
   "execution_count": 8,
   "metadata": {},
   "outputs": [],
   "source": [
    "import numpy as np\n",
    "import pandas as pd\n",
    "import matplotlib.pyplot as plt\n",
    "import datetime as dt"
   ]
  },
  {
   "cell_type": "code",
   "execution_count": 28,
   "metadata": {},
   "outputs": [],
   "source": [
    "user='friedrich_hayek'\n",
    "base_url='http://codeforces.com/submissions/'+user\n",
    "urls=[]\n",
    "for i in range(1,11):\n",
    "    urls.append(base_url+'/page/'+str(i))\n",
    "\n",
    "all_pages=[]\n",
    "for i in range(1,11):\n",
    "    table=pd.read_html(urls[i-1])\n",
    "    all_pages.append(table[5])\n",
    "\n",
    "all_pages=pd.concat(all_pages)\n",
    "all_pages=pd.DataFrame(all_pages)\n",
    "all_pages.index=range(0,len(all_pages))\n",
    "all_pages.to_csv(user+'.csv')"
   ]
  },
  {
   "cell_type": "code",
   "execution_count": null,
   "metadata": {},
   "outputs": [],
   "source": [
    "user='tourist'\n",
    "base_url='http://codeforces.com/submissions/'+user\n",
    "urls=[]\n",
    "for i in range(1,43):\n",
    "    urls.append(base_url+'/page/'+str(i))\n",
    "\n",
    "all_pages=[]\n",
    "for i in range(1,43):\n",
    "    table=pd.read_html(urls[i-1])\n",
    "    all_pages.append(table[5])\n",
    "\n",
    "all_pages=pd.concat(all_pages)\n",
    "all_pages=pd.DataFrame(all_pages)\n",
    "all_pages.index=range(0,len(all_pages))\n",
    "all_pages.to_csv(user+'.csv')"
   ]
  }
 ],
 "metadata": {
  "kernelspec": {
   "display_name": "Python 3",
   "language": "python",
   "name": "python3"
  },
  "language_info": {
   "codemirror_mode": {
    "name": "ipython",
    "version": 3
   },
   "file_extension": ".py",
   "mimetype": "text/x-python",
   "name": "python",
   "nbconvert_exporter": "python",
   "pygments_lexer": "ipython3",
   "version": "3.7.3"
  }
 },
 "nbformat": 4,
 "nbformat_minor": 2
}
